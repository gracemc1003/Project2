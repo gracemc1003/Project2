{
 "cells": [
  {
   "cell_type": "markdown",
   "metadata": {},
   "source": [
    "First, we import the necessary packages and load our data into a dataframe. "
   ]
  },
  {
   "cell_type": "code",
   "execution_count": 3,
   "metadata": {},
   "outputs": [],
   "source": [
    "import pandas as pd\n",
    "import numpy as np\n",
    "import string\n",
    "import matplotlib.pyplot as plt\n",
    "from sklearn.linear_model import SGDClassifier\n",
    "from sklearn.linear_model import LogisticRegression\n",
    "from sklearn.model_selection import train_test_split\n",
    "from sklearn.feature_extraction.text import CountVectorizer\n",
    "from sklearn.feature_extraction.text import TfidfVectorizer\n",
    "\n",
    "filepath = '/Users/gracemcmonagle/Desktop/School/Fall 2020/EECS 731/Project 2/1028_2124_bundle_archive/Shakespeare_data.csv'\n",
    "rawData = pd.read_csv(filepath, delimiter = ',')"
   ]
  },
  {
   "cell_type": "markdown",
   "metadata": {},
   "source": [
    "We examine the data and notice that there are entries like \"Act 1\" and \"Scene 1\" that do not have player line entry. We wish to remove those. "
   ]
  },
  {
   "cell_type": "code",
   "execution_count": 4,
   "metadata": {},
   "outputs": [],
   "source": [
    "data = rawData.dropna()"
   ]
  },
  {
   "cell_type": "markdown",
   "metadata": {},
   "source": [
    "Next, I was interested to see how many different players there were, so I created a list of the different players."
   ]
  },
  {
   "cell_type": "code",
   "execution_count": 7,
   "metadata": {},
   "outputs": [
    {
     "name": "stdout",
     "output_type": "stream",
     "text": [
      "934\n"
     ]
    }
   ],
   "source": [
    "players = data.Player.unique().tolist()\n",
    "print(len(players))"
   ]
  },
  {
   "cell_type": "markdown",
   "metadata": {},
   "source": [
    "We now move onto feature engineering. The first feature we're interested in adding is a column to indicate the length of the line. "
   ]
  },
  {
   "cell_type": "code",
   "execution_count": 8,
   "metadata": {},
   "outputs": [
    {
     "name": "stderr",
     "output_type": "stream",
     "text": [
      "/Users/gracemcmonagle/opt/anaconda3/lib/python3.7/site-packages/ipykernel_launcher.py:5: SettingWithCopyWarning: \n",
      "A value is trying to be set on a copy of a slice from a DataFrame.\n",
      "Try using .loc[row_indexer,col_indexer] = value instead\n",
      "\n",
      "See the caveats in the documentation: http://pandas.pydata.org/pandas-docs/stable/user_guide/indexing.html#returning-a-view-versus-a-copy\n",
      "  \"\"\"\n"
     ]
    }
   ],
   "source": [
    "noWords = []\n",
    "for index, row in data.iterrows():\n",
    "    noWords.append(len(row['PlayerLine'].split()))\n",
    "    \n",
    "data['NumWords'] = noWords"
   ]
  },
  {
   "cell_type": "markdown",
   "metadata": {},
   "source": [
    "Next, we are interested in creating new columns to indicate whether popular words are included in the line. To do so, we will count the instances of all the words and take the 50 most used ones. Then, we create a new variable for each of these 50 words with a count of that word for the given line. "
   ]
  },
  {
   "cell_type": "code",
   "execution_count": 9,
   "metadata": {},
   "outputs": [],
   "source": [
    "wordCount = {}\n",
    "for index, row in data.iterrows():\n",
    "    line = row['PlayerLine'].translate(str.maketrans('', '', string.punctuation)).lower()\n",
    "    words = line.split()\n",
    "    for word in words:\n",
    "        if word not in wordCount:\n",
    "            wordCount[word] = 0\n",
    "        wordCount[word] += 1\n",
    "        \n",
    "sorted_wordCount = sorted(wordCount.items(), key=lambda x: x[1], reverse=True)\n",
    "#top 50 words\n",
    "top_words50 = sorted_wordCount[:50]"
   ]
  },
  {
   "cell_type": "markdown",
   "metadata": {},
   "source": [
    "To get a sense of the top 50 words, we create a bar chart with the top 50 words and their instances:"
   ]
  },
  {
   "cell_type": "code",
   "execution_count": 17,
   "metadata": {},
   "outputs": [
    {
     "data": {
      "image/png": "[encoded data removed]",
      "text/plain": [
       "<Figure size 1080x864 with 1 Axes>"
      ]
     },
     "metadata": {
      "needs_background": "light"
     },
     "output_type": "display_data"
    }
   ],
   "source": [
    "plt.figure(figsize=(15,12))\n",
    "plt.bar(range(len(top_words50)), [val[1] for val in top_words50], align='center', color=(0.8, 0.4, 0.6, 0.6))\n",
    "plt.xticks(range(len(top_words50)), [val[0] for val in top_words50])\n",
    "plt.xticks(rotation=70)\n",
    "plt.xlabel('Word')\n",
    "plt.ylabel('Count')\n",
    "plt.title('50 most used words in Shakespeare Lines')\n",
    "plt.draw()"
   ]
  },
  {
   "cell_type": "markdown",
   "metadata": {},
   "source": [
    "As we said, we want to create a new column in our dataframe for each of these words to count the instances of the word in the given line."
   ]
  },
  {
   "cell_type": "code",
   "execution_count": 18,
   "metadata": {},
   "outputs": [
    {
     "name": "stderr",
     "output_type": "stream",
     "text": [
      "/Users/gracemcmonagle/opt/anaconda3/lib/python3.7/site-packages/ipykernel_launcher.py:15: SettingWithCopyWarning: \n",
      "A value is trying to be set on a copy of a slice from a DataFrame.\n",
      "Try using .loc[row_indexer,col_indexer] = value instead\n",
      "\n",
      "See the caveats in the documentation: http://pandas.pydata.org/pandas-docs/stable/user_guide/indexing.html#returning-a-view-versus-a-copy\n",
      "  from ipykernel import kernelapp as app\n"
     ]
    }
   ],
   "source": [
    "columns = {}\n",
    "for word in top_words50:\n",
    "    columns[word[0]] = [0 for _ in range(len(noWords))]\n",
    "\n",
    "i=0   \n",
    "for index, row in data.iterrows():\n",
    "    line = row['PlayerLine'].translate(str.maketrans('', '', string.punctuation)).lower()\n",
    "    words = line.split()\n",
    "    for word in words:\n",
    "        if word in columns:\n",
    "            columns[word][i] += 1\n",
    "    i+=1\n",
    "    \n",
    "for word in top_words50:\n",
    "    data[word[0] + '_count'] = columns[word[0]]"
   ]
  },
  {
   "cell_type": "markdown",
   "metadata": {},
   "source": [
    "Now that we have some added features in our dataset, we are ready to preprocess the text in order to run it in our classifier. We will use CountVectorizer to transform our lines into sparse matrices, and then transform them to arrays and concatonate them on our dataframe."
   ]
  },
  {
   "cell_type": "code",
   "execution_count": 19,
   "metadata": {},
   "outputs": [],
   "source": [
    "labels = data['Player']\n",
    "data_playerLine = data['PlayerLine']\n",
    "data_x = data.drop(['Player', 'Dataline', 'Play','ActSceneLine', 'PlayerLine'], axis=1)\n",
    "\n",
    "cv = CountVectorizer(binary = False, max_df = .95)\n",
    "cv.fit_transform(data_playerLine)\n",
    "data_playerLineTransform = cv.transform(data_playerLine.values)\n",
    "playerArray = data_playerLineTransform.toarray()\n",
    "playerDF = pd.DataFrame(np.row_stack(playerArray))\n",
    "\n",
    "fullData_x = pd.concat([data_x, playerDF.set_index(data_x.index)], axis=1)"
   ]
  },
  {
   "cell_type": "markdown",
   "metadata": {},
   "source": [
    "We now create our train and test datasets. We use a 80/20 split."
   ]
  },
  {
   "cell_type": "code",
   "execution_count": 20,
   "metadata": {},
   "outputs": [],
   "source": [
    "X_train, X_test, y_train, y_test = train_test_split(fullData_x, labels, test_size=0.2, random_state=0)"
   ]
  },
  {
   "cell_type": "markdown",
   "metadata": {},
   "source": [
    "Our data is now ready for classification. The first classifier we are going to investigate is a Logistic Regression classifier. "
   ]
  },
  {
   "cell_type": "code",
   "execution_count": 21,
   "metadata": {},
   "outputs": [
    {
     "name": "stderr",
     "output_type": "stream",
     "text": [
      "/Users/gracemcmonagle/opt/anaconda3/lib/python3.7/site-packages/sklearn/linear_model/logistic.py:432: FutureWarning: Default solver will be changed to 'lbfgs' in 0.22. Specify a solver to silence this warning.\n",
      "  FutureWarning)\n",
      "/Users/gracemcmonagle/opt/anaconda3/lib/python3.7/site-packages/sklearn/linear_model/logistic.py:469: FutureWarning: Default multi_class will be changed to 'auto' in 0.22. Specify the multi_class option to silence this warning.\n",
      "  \"this warning.\", FutureWarning)\n"
     ]
    },
    {
     "name": "stdout",
     "output_type": "stream",
     "text": [
      "0.08335314535685416\n"
     ]
    }
   ],
   "source": [
    "classifier = LogisticRegression()\n",
    "classifier.fit(X_train,y_train)\n",
    "score = classifier.score(X_test, y_test)\n",
    "print(score)"
   ]
  },
  {
   "cell_type": "code",
   "execution_count": null,
   "metadata": {},
   "outputs": [],
   "source": [
    "sgd = SGDClassifier(loss = 'modified_huber', shuffle = True, random_state=101)\n",
    "sgd.fit(X_train, y_train)\n",
    "y_pred = sgd.predict(X_test)\n",
    "score = sgd.score(X_test, y_test)\n",
    "print(score)"
   ]
  },
  {
   "cell_type": "markdown",
   "metadata": {},
   "source": [
    "This model took a very long time to compile and we didn't get an accuracy from it. However, based on the logistic regression classifier it wouldn't be very good. I then moved onto a different strategy. (see Notebook 2) "
   ]
  }
 ],
 "metadata": {
  "kernelspec": {
   "display_name": "Python 3",
   "language": "python",
   "name": "python3"
  },
  "language_info": {
   "codemirror_mode": {
    "name": "ipython",
    "version": 3
   },
   "file_extension": ".py",
   "mimetype": "text/x-python",
   "name": "python",
   "nbconvert_exporter": "python",
   "pygments_lexer": "ipython3",
   "version": "3.7.4"
  }
 },
 "nbformat": 4,
 "nbformat_minor": 2
}
