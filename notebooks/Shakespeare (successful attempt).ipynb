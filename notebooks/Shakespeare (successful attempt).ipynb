{
 "cells": [
  {
   "cell_type": "markdown",
   "metadata": {},
   "source": [
    "First, we import the necessary packages and load our data into a dataframe. "
   ]
  },
  {
   "cell_type": "code",
   "execution_count": 15,
   "metadata": {},
   "outputs": [],
   "source": [
    "import pandas as pd\n",
    "import numpy as np\n",
    "import string\n",
    "import matplotlib.pyplot as plt\n",
    "from sklearn.linear_model import SGDClassifier\n",
    "from sklearn.linear_model import LogisticRegression\n",
    "from sklearn.model_selection import train_test_split\n",
    "from sklearn.feature_extraction.text import CountVectorizer\n",
    "from sklearn.feature_extraction.text import TfidfVectorizer\n",
    "from sklearn import svm\n",
    "\n",
    "filepath = '/Users/gracemcmonagle/Desktop/School/Fall 2020/EECS 731/Project 2/1028_2124_bundle_archive/Shakespeare_data.csv'\n",
    "rawData = pd.read_csv(filepath, delimiter = ',')"
   ]
  },
  {
   "cell_type": "markdown",
   "metadata": {},
   "source": [
    "We examine the data and notice that there are entries like \"Act 1\" and \"Scene 1\" that do not have player line entry. We wish to remove those. "
   ]
  },
  {
   "cell_type": "code",
   "execution_count": 3,
   "metadata": {},
   "outputs": [],
   "source": [
    "data = rawData.dropna()"
   ]
  },
  {
   "cell_type": "markdown",
   "metadata": {},
   "source": [
    "Next, I was interested to see how many different players there were, so I created a list of the different players."
   ]
  },
  {
   "cell_type": "code",
   "execution_count": 4,
   "metadata": {},
   "outputs": [
    {
     "name": "stdout",
     "output_type": "stream",
     "text": [
      "934\n"
     ]
    }
   ],
   "source": [
    "players = data.Player.unique().tolist()\n",
    "print(len(players))"
   ]
  },
  {
   "cell_type": "markdown",
   "metadata": {},
   "source": [
    "Here is where my next two approaches diverged a bit. I originally one-hot encoded the plays and attempted to run the classifiers on this dataset. This increased the accuracy a bit from my original attempt, however, it was only in the 20 percent range which I wasn't happy with. I then decided to run the classifiers on separate datasets based on the play, limiting the number of possible players. So, I created a list of the unique plays here. "
   ]
  },
  {
   "cell_type": "code",
   "execution_count": 5,
   "metadata": {},
   "outputs": [],
   "source": [
    "plays = data.Play.unique().tolist()"
   ]
  },
  {
   "cell_type": "markdown",
   "metadata": {},
   "source": [
    "I also decided to utilize the act/scene/line variable by splitting it at the period and creating three separate columns. "
   ]
  },
  {
   "cell_type": "code",
   "execution_count": 6,
   "metadata": {},
   "outputs": [
    {
     "name": "stderr",
     "output_type": "stream",
     "text": [
      "/Users/gracemcmonagle/opt/anaconda3/lib/python3.7/site-packages/ipykernel_launcher.py:2: SettingWithCopyWarning: \n",
      "A value is trying to be set on a copy of a slice from a DataFrame\n",
      "\n",
      "See the caveats in the documentation: http://pandas.pydata.org/pandas-docs/stable/user_guide/indexing.html#returning-a-view-versus-a-copy\n",
      "  \n",
      "/Users/gracemcmonagle/opt/anaconda3/lib/python3.7/site-packages/IPython/core/interactiveshell.py:3326: SettingWithCopyWarning: \n",
      "A value is trying to be set on a copy of a slice from a DataFrame\n",
      "\n",
      "See the caveats in the documentation: http://pandas.pydata.org/pandas-docs/stable/user_guide/indexing.html#returning-a-view-versus-a-copy\n",
      "  exec(code_obj, self.user_global_ns, self.user_ns)\n",
      "/Users/gracemcmonagle/opt/anaconda3/lib/python3.7/site-packages/ipykernel_launcher.py:12: SettingWithCopyWarning: \n",
      "A value is trying to be set on a copy of a slice from a DataFrame.\n",
      "Try using .loc[row_indexer,col_indexer] = value instead\n",
      "\n",
      "See the caveats in the documentation: http://pandas.pydata.org/pandas-docs/stable/user_guide/indexing.html#returning-a-view-versus-a-copy\n",
      "  if sys.path[0] == '':\n",
      "/Users/gracemcmonagle/opt/anaconda3/lib/python3.7/site-packages/ipykernel_launcher.py:13: SettingWithCopyWarning: \n",
      "A value is trying to be set on a copy of a slice from a DataFrame.\n",
      "Try using .loc[row_indexer,col_indexer] = value instead\n",
      "\n",
      "See the caveats in the documentation: http://pandas.pydata.org/pandas-docs/stable/user_guide/indexing.html#returning-a-view-versus-a-copy\n",
      "  del sys.path[0]\n",
      "/Users/gracemcmonagle/opt/anaconda3/lib/python3.7/site-packages/ipykernel_launcher.py:14: SettingWithCopyWarning: \n",
      "A value is trying to be set on a copy of a slice from a DataFrame.\n",
      "Try using .loc[row_indexer,col_indexer] = value instead\n",
      "\n",
      "See the caveats in the documentation: http://pandas.pydata.org/pandas-docs/stable/user_guide/indexing.html#returning-a-view-versus-a-copy\n",
      "  \n"
     ]
    }
   ],
   "source": [
    "for index, row in data.iterrows():\n",
    "    data['ActSceneLine'][index] = data['ActSceneLine'][index].split('.')\n",
    "        \n",
    "act = []\n",
    "scene = []\n",
    "line = []\n",
    "for index, row  in data.iterrows():\n",
    "    act.append(data['ActSceneLine'][index][0])\n",
    "    scene.append(data['ActSceneLine'][index][1])\n",
    "    line.append(data['ActSceneLine'][index][2])\n",
    "    \n",
    "data['Act'] = act\n",
    "data['Scene'] = scene\n",
    "data['Line'] = line"
   ]
  },
  {
   "cell_type": "markdown",
   "metadata": {},
   "source": [
    "We now move onto feature engineering. The first feature we're interested in adding is a column to indicate the length of the line. "
   ]
  },
  {
   "cell_type": "code",
   "execution_count": 8,
   "metadata": {},
   "outputs": [
    {
     "name": "stderr",
     "output_type": "stream",
     "text": [
      "/Users/gracemcmonagle/opt/anaconda3/lib/python3.7/site-packages/ipykernel_launcher.py:5: SettingWithCopyWarning: \n",
      "A value is trying to be set on a copy of a slice from a DataFrame.\n",
      "Try using .loc[row_indexer,col_indexer] = value instead\n",
      "\n",
      "See the caveats in the documentation: http://pandas.pydata.org/pandas-docs/stable/user_guide/indexing.html#returning-a-view-versus-a-copy\n",
      "  \"\"\"\n"
     ]
    }
   ],
   "source": [
    "noWords = []\n",
    "for index, row in data.iterrows():\n",
    "    noWords.append(len(row['PlayerLine'].split()))\n",
    "    \n",
    "data['NumWords'] = noWords"
   ]
  },
  {
   "cell_type": "markdown",
   "metadata": {},
   "source": [
    "Next, we are interested in creating new columns to indicate whether popular words are included in the line. To do so, we will count the instances of all the words and take the 50 most used ones. Then, we create a new variable for each of these 20 words with a count of that word for the given line. "
   ]
  },
  {
   "cell_type": "code",
   "execution_count": 7,
   "metadata": {},
   "outputs": [],
   "source": [
    "wordCount = {}\n",
    "for index, row in data.iterrows():\n",
    "    line = row['PlayerLine'].translate(str.maketrans('', '', string.punctuation)).lower()\n",
    "    words = line.split()\n",
    "    for word in words:\n",
    "        if word not in wordCount:\n",
    "            wordCount[word] = 0\n",
    "        wordCount[word] += 1\n",
    "        \n",
    "sorted_wordCount = sorted(wordCount.items(), key=lambda x: x[1], reverse=True)\n",
    "#top 20 words\n",
    "top_words20 = sorted_wordCount[:50]"
   ]
  },
  {
   "cell_type": "markdown",
   "metadata": {},
   "source": [
    "To get a sense of the top 20 words, we create a bar chart with the top 50 words and their instances:"
   ]
  },
  {
   "cell_type": "code",
   "execution_count": 12,
   "metadata": {},
   "outputs": [
    {
     "data": {
      "image/png": "[encoded data removed]",
      "text/plain": [
       "<Figure size 1080x864 with 1 Axes>"
      ]
     },
     "metadata": {
      "needs_background": "light"
     },
     "output_type": "display_data"
    }
   ],
   "source": [
    "plt.figure(figsize=(15,12))\n",
    "plt.bar(range(len(top_words20)), [val[1] for val in top_words20], align='center', color=(0.3, 0.0, 0.6, 0.6))\n",
    "plt.xticks(range(len(top_words20)), [val[0] for val in top_words20])\n",
    "plt.xticks(rotation=70)\n",
    "plt.xlabel('Word')\n",
    "plt.ylabel('Count')\n",
    "plt.title('20 most used words in Shakespeare Lines')\n",
    "plt.draw()"
   ]
  },
  {
   "cell_type": "markdown",
   "metadata": {},
   "source": [
    "As we said, we want to create a new column in our dataframe for each of these words to count the instances of the word in the given line."
   ]
  },
  {
   "cell_type": "code",
   "execution_count": 18,
   "metadata": {},
   "outputs": [
    {
     "name": "stderr",
     "output_type": "stream",
     "text": [
      "/Users/gracemcmonagle/opt/anaconda3/lib/python3.7/site-packages/ipykernel_launcher.py:15: SettingWithCopyWarning: \n",
      "A value is trying to be set on a copy of a slice from a DataFrame.\n",
      "Try using .loc[row_indexer,col_indexer] = value instead\n",
      "\n",
      "See the caveats in the documentation: http://pandas.pydata.org/pandas-docs/stable/user_guide/indexing.html#returning-a-view-versus-a-copy\n",
      "  from ipykernel import kernelapp as app\n"
     ]
    }
   ],
   "source": [
    "columns = {}\n",
    "for word in top_words50:\n",
    "    columns[word[0]] = [0 for _ in range(len(noWords))]\n",
    "\n",
    "i=0   \n",
    "for index, row in data.iterrows():\n",
    "    line = row['PlayerLine'].translate(str.maketrans('', '', string.punctuation)).lower()\n",
    "    words = line.split()\n",
    "    for word in words:\n",
    "        if word in columns:\n",
    "            columns[word][i] += 1\n",
    "    i+=1\n",
    "    \n",
    "for word in top_words50:\n",
    "    data[word[0] + '_count'] = columns[word[0]]"
   ]
  },
  {
   "cell_type": "markdown",
   "metadata": {},
   "source": [
    "Now that we have the data prepared in a way that we want to run through a classifier, we are going to separate the data by the play by creating a dictionary with the key as the play and the entry as the dataframe we will run through the classifier."
   ]
  },
  {
   "cell_type": "code",
   "execution_count": 13,
   "metadata": {},
   "outputs": [],
   "source": [
    "dataPlays = {elem: pd.DataFrame for elem in plays}\n",
    "for key in dataPlays.keys():\n",
    "    dataPlays[key] = data[:][data.Play == key]"
   ]
  },
  {
   "cell_type": "markdown",
   "metadata": {},
   "source": [
    "We will now run a Logistic Regression classifier and a SVC classifier. We'll keep track of the accuracy of each play and we can take the average over all the plays to get an accuracy for the whole dataset."
   ]
  },
  {
   "cell_type": "code",
   "execution_count": 16,
   "metadata": {},
   "outputs": [],
   "source": [
    "svcScore = []   \n",
    "lrScore = [] \n",
    "for key in dataPlays.keys():\n",
    "    labels = dataPlays[key]['Player']   \n",
    "    data_x = dataPlays[key].drop(['Player', 'Dataline','ActSceneLine', 'PlayerLine', 'Play'], axis=1)\n",
    "    X_train, X_test, y_train, y_test = train_test_split(data_x, labels, test_size=0.2, random_state=0)\n",
    "    classifier = LogisticRegression(multi_class = 'auto', solver = 'liblinear')\n",
    "    classifier.fit(X_train,y_train)\n",
    "    score = classifier.score(X_test, y_test)\n",
    "    lrScore.append(score)\n",
    "    clf = svm.SVC(gamma = 'auto')\n",
    "    clf.fit(X_train, y_train)\n",
    "    scoreSVC = clf.score(X_test, y_test)\n",
    "    svcScore.append(scoreSVC)"
   ]
  },
  {
   "cell_type": "code",
   "execution_count": 17,
   "metadata": {},
   "outputs": [
    {
     "name": "stdout",
     "output_type": "stream",
     "text": [
      "LR Accuracy:\n",
      "0.3109863417045473\n"
     ]
    }
   ],
   "source": [
    "print(\"LR Accuracy:\")\n",
    "print(sum(lrScore)/len(lrScore))"
   ]
  },
  {
   "cell_type": "code",
   "execution_count": 18,
   "metadata": {},
   "outputs": [
    {
     "name": "stdout",
     "output_type": "stream",
     "text": [
      "SVC Accuracy:\n",
      "0.6867100390443183\n"
     ]
    }
   ],
   "source": [
    "print(\"SVC Accuracy:\")\n",
    "print(sum(svcScore)/len(svcScore))"
   ]
  },
  {
   "cell_type": "code",
   "execution_count": null,
   "metadata": {},
   "outputs": [],
   "source": []
  }
 ],
 "metadata": {
  "kernelspec": {
   "display_name": "Python 3",
   "language": "python",
   "name": "python3"
  },
  "language_info": {
   "codemirror_mode": {
    "name": "ipython",
    "version": 3
   },
   "file_extension": ".py",
   "mimetype": "text/x-python",
   "name": "python",
   "nbconvert_exporter": "python",
   "pygments_lexer": "ipython3",
   "version": "3.7.4"
  }
 },
 "nbformat": 4,
 "nbformat_minor": 2
}
